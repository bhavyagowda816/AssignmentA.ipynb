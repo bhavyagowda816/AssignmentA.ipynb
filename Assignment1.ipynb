{
 "cells": [
  {
   "cell_type": "code",
   "execution_count": 19,
   "metadata": {},
   "outputs": [
    {
     "name": "stdout",
     "output_type": "stream",
     "text": [
      "0 1 1 2 3 5 8 13 21 34 "
     ]
    }
   ],
   "source": [
    "n=int(input(\"Enter any number :\"))\n",
    "a=0\n",
    "b=1\n",
    "\n",
    "c=0\n",
    "while(c<=n):\n",
    "    print(c,end=\" \")\n",
    "    a=b\n",
    "    b=c\n",
    "    c=a+b\n",
    "\n"
   ]
  },
  {
   "cell_type": "code",
   "execution_count": 18,
   "metadata": {},
   "outputs": [
    {
     "name": "stdout",
     "output_type": "stream",
     "text": [
      "enter string Edyoda\n",
      "reverse_string is: adoydE \n"
     ]
    }
   ],
   "source": [
    "def reverse(string):\n",
    "    reverse_string=\" \"\n",
    "    for i in string:\n",
    "        reverse_string= (i+reverse_string)\n",
    "    print(\"reverse_string is:\",reverse_string) \n",
    "string=input(\"enter a string:\")\n",
    "print(\"enter string\",string)  \n",
    "reverse(string)     "
   ]
  },
  {
   "cell_type": "code",
   "execution_count": 17,
   "metadata": {},
   "outputs": [
    {
     "name": "stdout",
     "output_type": "stream",
     "text": [
      "Total odd number= 5\n",
      "Total even numbers= 4\n"
     ]
    }
   ],
   "source": [
    "list1=[1,2,3,4,5,6,7,8,9]\n",
    "total_odd = 0\n",
    "total_even = 0\n",
    "for number in list1:\n",
    " if (number % 2 == 0):\n",
    "        total_even = total_even + 1\n",
    " else:\n",
    "    total_odd=total_odd+1\n",
    "print('Total odd number=', total_odd)\n",
    "print('Total even numbers=', total_even)"
   ]
  }
 ],
 "metadata": {
  "kernelspec": {
   "display_name": "Python 3",
   "language": "python",
   "name": "python3"
  },
  "language_info": {
   "codemirror_mode": {
    "name": "ipython",
    "version": 3
   },
   "file_extension": ".py",
   "mimetype": "text/x-python",
   "name": "python",
   "nbconvert_exporter": "python",
   "pygments_lexer": "ipython3",
   "version": "3.12.0"
  }
 },
 "nbformat": 4,
 "nbformat_minor": 2
}
